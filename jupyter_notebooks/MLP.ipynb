{
 "cells": [
  {
   "cell_type": "markdown",
   "id": "674ddd09",
   "metadata": {},
   "source": [
    "# MLP do zero"
   ]
  },
  {
   "cell_type": "markdown",
   "id": "6d112867",
   "metadata": {},
   "source": [
    "## Neuronio com 3 Inputs\n",
    "![3_Inputs_Neuron.png](imgs/3_Inputs_Neuron.PNG)"
   ]
  },
  {
   "cell_type": "code",
   "execution_count": 13,
   "id": "59a12eea",
   "metadata": {},
   "outputs": [
    {
     "name": "stdout",
     "output_type": "stream",
     "text": [
      "2.3\n"
     ]
    }
   ],
   "source": [
    "inputs = [1, 2, 3]\n",
    "weights = [0.2, 0.8, -0.5]\n",
    "bias = 2\n",
    "\n",
    "output = (inputs[0]*weights[0] + inputs[1]*weights[1] + inputs[2]*weights[2] + bias)\n",
    "\n",
    "print(output)"
   ]
  },
  {
   "cell_type": "markdown",
   "id": "03adde5f",
   "metadata": {},
   "source": [
    "## Neuronio com 4 Inputs\n",
    "![4_Inputs_Neuron.png](imgs/4_Inputs_Neuron.PNG)"
   ]
  },
  {
   "cell_type": "code",
   "execution_count": 14,
   "id": "9d057f0c",
   "metadata": {},
   "outputs": [
    {
     "name": "stdout",
     "output_type": "stream",
     "text": [
      "4.8\n"
     ]
    }
   ],
   "source": [
    "inputs = [1.0, 2.0, 3.0, 2.5]\n",
    "weights = [0.2, 0.8, -0.5, 1.0]\n",
    "bias = 2.0\n",
    "output = (inputs[0]*weights[0] +\n",
    " inputs[1]*weights[1] +\n",
    " inputs[2]*weights[2] +\n",
    " inputs[3]*weights[3] + bias)\n",
    "\n",
    "print(output)"
   ]
  },
  {
   "cell_type": "markdown",
   "id": "28611433",
   "metadata": {},
   "source": [
    "## Camada com 3 Neuronios\n",
    "![3_Neurons_Layer.png](imgs/3_Neurons_Layer.PNG)"
   ]
  },
  {
   "cell_type": "markdown",
   "id": "c37f2b46",
   "metadata": {},
   "source": [
    "### Sem Loop "
   ]
  },
  {
   "cell_type": "code",
   "execution_count": 15,
   "id": "365e1f1e",
   "metadata": {},
   "outputs": [
    {
     "name": "stdout",
     "output_type": "stream",
     "text": [
      "[4.8, 1.21, 2.385]\n"
     ]
    }
   ],
   "source": [
    "inputs = [1, 2, 3, 2.5]\n",
    "\n",
    "weights = [[0.2, 0.8, -0.5, 1],\n",
    " [0.5, -0.91, 0.26, -0.5],\n",
    " [-0.26, -0.27, 0.17, 0.87]]\n",
    "\n",
    "weights1 = weights[0] #Lista de pesos associados com PRIMEIRO neuronio: W11, W12, W13, W14\n",
    "weights2 = weights[1] #Lista de pesos associados com SEGUNDO neuronio: W21, W22, W23, W24\n",
    "weights3 = weights[2] #Lista de pesos associados com TERCEIRO neuronio: W31, W32, W33, W34\n",
    "\n",
    "biases = [2, 3, 0.5]\n",
    "\n",
    "bias1 = 2\n",
    "bias2 = 3\n",
    "bias3 = 0.5\n",
    "\n",
    "outputs = [\n",
    " # Neuronio 1:\n",
    " inputs[0]*weights1[0] +\n",
    " inputs[1]*weights1[1] +\n",
    " inputs[2]*weights1[2] +\n",
    " inputs[3]*weights1[3] + bias1,\n",
    " # Neuronio 2:\n",
    " inputs[0]*weights2[0] +\n",
    " inputs[1]*weights2[1] +\n",
    " inputs[2]*weights2[2] +\n",
    " inputs[3]*weights2[3] + bias2,\n",
    " # Neuronio 3:\n",
    " inputs[0]*weights3[0] +\n",
    " inputs[1]*weights3[1] +\n",
    " inputs[2]*weights3[2] +\n",
    " inputs[3]*weights3[3] + bias3]\n",
    "\n",
    "print(outputs)"
   ]
  },
  {
   "cell_type": "markdown",
   "id": "70869b2b",
   "metadata": {},
   "source": [
    "### Com Loop"
   ]
  },
  {
   "cell_type": "code",
   "execution_count": null,
   "id": "c32ae45d",
   "metadata": {},
   "outputs": [
    {
     "name": "stdout",
     "output_type": "stream",
     "text": [
      "[4.8, 1.21, 2.385]\n"
     ]
    }
   ],
   "source": [
    "inputs = [1, 2, 3, 2.5]\n",
    "\n",
    "weights = [\n",
    "    [0.2, 0.8, -0.5, 1],\n",
    "    [0.5, -0.91, 0.26, -0.5],\n",
    "    [-0.26, -0.27, 0.17, 0.87]\n",
    "]\n",
    "\n",
    "biases = [2, 3, 0.5]\n",
    "\n",
    "# Output do layer que foi processado\n",
    "layer_outputs = []\n",
    "\n",
    "# Para cada neurônio\n",
    "for i in range(len(weights)):\n",
    "    neuron_weights = weights[i]\n",
    "    neuron_bias = biases[i]\n",
    "\n",
    "    # Valor inicial do output do Neuronio\n",
    "    neuron_output = 0\n",
    "    # Multiplica cada input pelo peso correspondente em cada Neuronio\n",
    "    for j in range(len(inputs)):\n",
    "        neuron_output += inputs[j] * neuron_weights[j] # w11*x1 + w12*x2 + w13*x3 + w14*x4 ...(Para os próximos neuronios faz o mesmo)\n",
    "    \n",
    "    # Adiciona vies\n",
    "    neuron_output += neuron_bias # w11*x1 + w12*x2 + w13*x3 + w14*x4 + b1...\n",
    "    layer_outputs.append(neuron_output)\n",
    "\n",
    "print(layer_outputs)\n"
   ]
  }
 ],
 "metadata": {
  "kernelspec": {
   "display_name": "Python 3",
   "language": "python",
   "name": "python3"
  },
  "language_info": {
   "codemirror_mode": {
    "name": "ipython",
    "version": 3
   },
   "file_extension": ".py",
   "mimetype": "text/x-python",
   "name": "python",
   "nbconvert_exporter": "python",
   "pygments_lexer": "ipython3",
   "version": "3.13.1"
  }
 },
 "nbformat": 4,
 "nbformat_minor": 5
}
